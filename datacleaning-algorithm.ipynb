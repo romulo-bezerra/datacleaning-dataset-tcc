{
 "cells": [
  {
   "cell_type": "code",
   "execution_count": 18,
   "metadata": {},
   "outputs": [],
   "source": [
    "import pandas as pd\n",
    "import nltk\n",
    "import re\n",
    "from collections import OrderedDict\n",
    "import warnings\n",
    "warnings.filterwarnings('ignore')"
   ]
  },
  {
   "cell_type": "code",
   "execution_count": 19,
   "metadata": {},
   "outputs": [],
   "source": [
    "# load dataset\n",
    "dataset = pd.read_csv('dataset-train.csv')"
   ]
  },
  {
   "cell_type": "code",
   "execution_count": 20,
   "metadata": {},
   "outputs": [
    {
     "data": {
      "text/html": [
       "<div>\n",
       "<style scoped>\n",
       "    .dataframe tbody tr th:only-of-type {\n",
       "        vertical-align: middle;\n",
       "    }\n",
       "\n",
       "    .dataframe tbody tr th {\n",
       "        vertical-align: top;\n",
       "    }\n",
       "\n",
       "    .dataframe thead th {\n",
       "        text-align: right;\n",
       "    }\n",
       "</style>\n",
       "<table border=\"1\" class=\"dataframe\">\n",
       "  <thead>\n",
       "    <tr style=\"text-align: right;\">\n",
       "      <th></th>\n",
       "      <th>content</th>\n",
       "      <th>programacao orientada a objeto</th>\n",
       "      <th>linguagem de marcacao</th>\n",
       "      <th>banco de dados</th>\n",
       "      <th>linguagem de script</th>\n",
       "    </tr>\n",
       "  </thead>\n",
       "  <tbody>\n",
       "    <tr>\n",
       "      <th>0</th>\n",
       "      <td>[package com.ifpb.exemplo.dao;, , import com.i...</td>\n",
       "      <td>1</td>\n",
       "      <td>0</td>\n",
       "      <td>0</td>\n",
       "      <td>0</td>\n",
       "    </tr>\n",
       "    <tr>\n",
       "      <th>1</th>\n",
       "      <td>[package com.ifpb.exemplo.modelo;, , import ja...</td>\n",
       "      <td>1</td>\n",
       "      <td>0</td>\n",
       "      <td>0</td>\n",
       "      <td>0</td>\n",
       "    </tr>\n",
       "    <tr>\n",
       "      <th>2</th>\n",
       "      <td>[package com.ifpb.exemplo.visao;, , import jav...</td>\n",
       "      <td>1</td>\n",
       "      <td>0</td>\n",
       "      <td>0</td>\n",
       "      <td>0</td>\n",
       "    </tr>\n",
       "    <tr>\n",
       "      <th>3</th>\n",
       "      <td>[package com.ifpb.exemplo.dao;, , import java....</td>\n",
       "      <td>1</td>\n",
       "      <td>0</td>\n",
       "      <td>0</td>\n",
       "      <td>0</td>\n",
       "    </tr>\n",
       "    <tr>\n",
       "      <th>4</th>\n",
       "      <td>[package com.ifpb.exemplo.dao;, , import java....</td>\n",
       "      <td>1</td>\n",
       "      <td>0</td>\n",
       "      <td>0</td>\n",
       "      <td>0</td>\n",
       "    </tr>\n",
       "  </tbody>\n",
       "</table>\n",
       "</div>"
      ],
      "text/plain": [
       "                                             content  \\\n",
       "0  [package com.ifpb.exemplo.dao;, , import com.i...   \n",
       "1  [package com.ifpb.exemplo.modelo;, , import ja...   \n",
       "2  [package com.ifpb.exemplo.visao;, , import jav...   \n",
       "3  [package com.ifpb.exemplo.dao;, , import java....   \n",
       "4  [package com.ifpb.exemplo.dao;, , import java....   \n",
       "\n",
       "   programacao orientada a objeto  linguagem de marcacao  banco de dados  \\\n",
       "0                               1                      0               0   \n",
       "1                               1                      0               0   \n",
       "2                               1                      0               0   \n",
       "3                               1                      0               0   \n",
       "4                               1                      0               0   \n",
       "\n",
       "   linguagem de script  \n",
       "0                    0  \n",
       "1                    0  \n",
       "2                    0  \n",
       "3                    0  \n",
       "4                    0  "
      ]
     },
     "execution_count": 20,
     "metadata": {},
     "output_type": "execute_result"
    }
   ],
   "source": [
    "# print head\n",
    "dataset.head()"
   ]
  },
  {
   "cell_type": "code",
   "execution_count": 21,
   "metadata": {},
   "outputs": [
    {
     "data": {
      "text/plain": [
       "0       [package com.ifpb.exemplo.dao;, , import com.i...\n",
       "1       [package com.ifpb.exemplo.modelo;, , import ja...\n",
       "2       [package com.ifpb.exemplo.visao;, , import jav...\n",
       "3       [package com.ifpb.exemplo.dao;, , import java....\n",
       "4       [package com.ifpb.exemplo.dao;, , import java....\n",
       "5       [package com.ifpb.exemplo.dao;, , import com.i...\n",
       "6       [package com.ifpb.exemplo.dao;, , import com.i...\n",
       "7       [package com.ifpb.exemplo.modelo;, , //QuestÃ£...\n",
       "8       [package com.ifpb.exemplo.modelo;, , public cl...\n",
       "9       [package com.ifpb.exemplo.modelo;, , import ja...\n",
       "10      [package com.ifpb.exemplo.visao;, , import com...\n",
       "11      [package com.ifpb.dao.dao;, , import com.ifpb....\n",
       "12      [package com.ifpb.dao.dao;, , import com.ifpb....\n",
       "13      [package com.ifpb.dao.dao;, , import com.ifpb....\n",
       "14      [package com.ifpb.dao.modelo;, , import java.t...\n",
       "15      [package com.ifpb.dao.visao;, , import com.ifp...\n",
       "16      [package com.ifpb.formasgeometricas.modelo;, ,...\n",
       "17      [package com.ifpb.formasgeometricas.modelo;, ,...\n",
       "18      [package com.ifpb.formasgeometricas.modelo;, ,...\n",
       "19      [package com.ifpb.disciplinas.enumetarions;, ,...\n",
       "20      [package com.ifpb.disciplinas.modelo;, , impor...\n",
       "21      [package com.ifpb.disciplinas.modelo;, , impor...\n",
       "22      [package com.ifpb.disciplinas.modelo;, , publi...\n",
       "23      [package com.ifpb.disciplinas.modelo;, , impor...\n",
       "24      [package com.ifpb.disciplinas.visao;, , import...\n",
       "25      [package com.ifpb.faculdade.modelo;, , import ...\n",
       "26      [package com.ifpb.faculdade.modelo;, , import ...\n",
       "27      [package com.ifpb.faculdade.modelo;, , import ...\n",
       "28      [package com.ifpb.faculdade.modelo;, , import ...\n",
       "29      [package com.ifpb.faculdade.modelo;, , import ...\n",
       "                              ...                        \n",
       "8381    [#!/bin/sh, , X=0, git status âporcelain > _...\n",
       "8382    [#!/bin/sh, , cnt=0, while [ $cnt -lt 3 ], do,...\n",
       "8383    [#!/bin/sh, , X=0, echo \"Before the loop X=$X ...\n",
       "8384    [#!/bin/bash, for i in 1 2 3 4 5, do , echo \" ...\n",
       "8385    [#!/bin/bash, while :, do, echo \"pls type some...\n",
       "8386    [#!/bin/bash, for i in hello 1 *  2 goodbye, d...\n",
       "8387                    [#!/bin/bash, echo \"Hello World\"]\n",
       "8388    [#!/bin/bash, my_message=\"hello world\", echo $...\n",
       "8389    [#!/bin/bash, echo \"what is your name?\", read ...\n",
       "8390    [#!/bin/bash, echo what is your name?, read my...\n",
       "8391    [#!/bin/bash, input_string=\" hello\", echo \"$in...\n",
       "8392    [#!/bin/bash, , first=0, second=1, , echo \"$fi...\n",
       "8393    [#!/bin/ksh, #################################...\n",
       "8394    [#!/bin/bash, _DEBUG=\"on\", function DEBUG(), {...\n",
       "8395    [#!/bin/bash, array=(\"kanaka\" \"daroji\" \"bhavya...\n",
       "8396    [#!/bin/bash, , echo \"Hello Kanakachala Daroji...\n",
       "8397    [#!/bin/bash, , echo \"****** Programe to rever...\n",
       "8398    [#! /bin/bash, # 30/05/2016, # @Codenando, , #...\n",
       "8399    [#!/bin/bash, # Hello_world.sh, # 18/10/2016, ...\n",
       "8400    [#!/bin/ksh, #set -x, , #HealtCheck HC E2, , e...\n",
       "8401    [#!/bin/bash , # Spool_Sftp.sh , # 25/05/2016 ...\n",
       "8402    [#! /bin/bash, , # to test integers the better...\n",
       "8403    [test_file () {,   #eval status of files ,   ,...\n",
       "8404    [#! /bin/bash, # 29/05/2016, # @Codenando, , #...\n",
       "8405    [samplename=$( basename $1 | sed -E 's/_.+//' ...\n",
       "8406    [for f in data/*_R1_*, do,     samplename=$( b...\n",
       "8407    [#!/bin/bash, , # -----------------, # VARIABL...\n",
       "8408    [#!/bin/bash, , # =======================, # O...\n",
       "8409    [#!/bin/bash, , # =======================, # M...\n",
       "8410    [#!/bin/bash, , # =======================, # F...\n",
       "Name: content, Length: 8411, dtype: object"
      ]
     },
     "execution_count": 21,
     "metadata": {},
     "output_type": "execute_result"
    }
   ],
   "source": [
    "# print body 'content'\n",
    "dataset['content']"
   ]
  },
  {
   "cell_type": "code",
   "execution_count": 22,
   "metadata": {},
   "outputs": [],
   "source": [
    "# normalize to lowercase\n",
    "dataset['content'] = dataset['content'].str.lower()"
   ]
  },
  {
   "cell_type": "code",
   "execution_count": 23,
   "metadata": {},
   "outputs": [],
   "source": [
    "# remove punctuation with space\n",
    "dataset['content'] = dataset['content'].str.replace('[^\\w\\s]', ' ')"
   ]
  },
  {
   "cell_type": "code",
   "execution_count": 24,
   "metadata": {},
   "outputs": [],
   "source": [
    "# remove numeration with null\n",
    "dataset['content'] = dataset['content'].str.replace(r'\\b\\d+\\b', '')"
   ]
  },
  {
   "cell_type": "code",
   "execution_count": 25,
   "metadata": {},
   "outputs": [],
   "source": [
    "def tokenize(rows_text):    \n",
    "    # load content\n",
    "    content = rows_text['content']\n",
    "    # tokenizing\n",
    "    tokens = nltk.word_tokenize(content)         \n",
    "    return tokens\n",
    "\n",
    "# creates a transient 'words' column with the result of the function\n",
    "dataset['tokenized'] = dataset.apply(tokenize, axis = 1)"
   ]
  },
  {
   "cell_type": "code",
   "execution_count": 26,
   "metadata": {},
   "outputs": [],
   "source": [
    "def remove_stopwords_portuguese(row):\n",
    "    stopwords_portuguese = nltk.corpus.stopwords.words('portuguese')\n",
    "    \n",
    "    my_list = row['tokenized']\n",
    "    meaningful_words = [w for w in my_list if not w in stopwords_portuguese]\n",
    "    return (meaningful_words)\n",
    "\n",
    "# creates a transient 'with_stopwords_removed' column with the result of the function\n",
    "dataset['with_stopwords_removed'] = dataset.apply(remove_stopwords_portuguese, axis = 1)"
   ]
  },
  {
   "cell_type": "code",
   "execution_count": 27,
   "metadata": {},
   "outputs": [],
   "source": [
    "# Remove duplicates inline\n",
    "def remove_words_duplicates_inline(rows_text):\n",
    "    # load content\n",
    "    content = rows_text['with_stopwords_removed']\n",
    "    \n",
    "    # creates a key dictionary and returns only the keys in list format, \n",
    "    # [...] eliminating duplicates by maintaining the insertion order \n",
    "    duplicates_deleted = list(OrderedDict.fromkeys(content).keys())\n",
    "\n",
    "    return duplicates_deleted\n",
    "\n",
    "# creates a transient 'words' column with the result of the function\n",
    "dataset['duplicates_removed'] = dataset.apply(remove_words_duplicates_inline, axis = 1)"
   ]
  },
  {
   "cell_type": "code",
   "execution_count": 28,
   "metadata": {},
   "outputs": [
    {
     "data": {
      "text/plain": [
       "0       [package, ifpb, exemplo, dao, import, modelo, ...\n",
       "1       [package, ifpb, exemplo, modelo, import, java,...\n",
       "2       [package, ifpb, exemplo, visao, import, java, ...\n",
       "3       [package, ifpb, exemplo, dao, import, java, ut...\n",
       "4       [package, ifpb, exemplo, dao, import, java, ut...\n",
       "5       [package, ifpb, exemplo, dao, import, modelo, ...\n",
       "6       [package, ifpb, exemplo, dao, import, modelo, ...\n",
       "7       [package, ifpb, exemplo, modelo, questã, deite...\n",
       "8       [package, ifpb, exemplo, modelo, public, class...\n",
       "9       [package, ifpb, exemplo, modelo, import, java,...\n",
       "10      [package, ifpb, exemplo, visao, import, dao, g...\n",
       "11      [package, ifpb, dao, import, modelo, pessoa, p...\n",
       "12      [package, ifpb, dao, import, modelo, pessoa, i...\n",
       "13      [package, ifpb, dao, import, modelo, pessoa, p...\n",
       "14      [package, ifpb, dao, modelo, import, java, tim...\n",
       "15      [package, ifpb, dao, visao, import, pessoadao,...\n",
       "16      [package, ifpb, formasgeometricas, modelo, pub...\n",
       "17      [package, ifpb, formasgeometricas, modelo, pub...\n",
       "18      [package, ifpb, formasgeometricas, modelo, pub...\n",
       "19      [package, ifpb, disciplinas, enumetarions, pub...\n",
       "20      [package, ifpb, disciplinas, modelo, import, e...\n",
       "21      [package, ifpb, disciplinas, modelo, import, j...\n",
       "22      [package, ifpb, disciplinas, modelo, public, c...\n",
       "23      [package, ifpb, disciplinas, modelo, import, j...\n",
       "24      [package, ifpb, disciplinas, visao, import, en...\n",
       "25      [package, ifpb, faculdade, modelo, import, jav...\n",
       "26      [package, ifpb, faculdade, modelo, import, jav...\n",
       "27      [package, ifpb, faculdade, modelo, import, jav...\n",
       "28      [package, ifpb, faculdade, modelo, import, jav...\n",
       "29      [package, ifpb, faculdade, modelo, import, jav...\n",
       "                              ...                        \n",
       "8381    [bin, sh, x, git, status, â, porcelain, _, p, ...\n",
       "8382    [bin, sh, cnt, while, lt, echo, in, the, loop,...\n",
       "8383    [bin, sh, x, echo, before, the, loop, getppid,...\n",
       "8384      [bin, bash, i, in, echo, looping, number, done]\n",
       "8385    [bin, bash, while, echo, pls, type, something,...\n",
       "8386    [bin, bash, i, in, hello, goodbye, echo, loopi...\n",
       "8387                      [bin, bash, echo, hello, world]\n",
       "8388          [bin, bash, my_message, hello, world, echo]\n",
       "8389    [bin, bash, echo, what, is, your, name, read, ...\n",
       "8390    [bin, bash, echo, what, is, your, name, read, ...\n",
       "8391    [bin, bash, input_string, hello, echo, while, ...\n",
       "8392      [bin, bash, first, second, echo, i, next, done]\n",
       "8393    [bin, ksh, script, name, env_jsondownload, aut...\n",
       "8394    [bin, bash, _debug, on, function, debug, echo,...\n",
       "8395    [bin, bash, array, kanaka, daroji, bhavya, dim...\n",
       "8396        [bin, bash, echo, hello, kanakachala, daroji]\n",
       "8397    [bin, bash, echo, programe, to, reverse, strin...\n",
       "8398    [bin, bash, codenando, set, x, crea, directori...\n",
       "8399    [bin, bash, hello_world, sh, codenando, echo, ...\n",
       "8400    [bin, ksh, set, x, healtcheck, hc, e2, echo, r...\n",
       "8401    [bin, bash, spool_sftp, sh, codenando, script,...\n",
       "8402    [bin, bash, to, test, integers, the, better, w...\n",
       "8403    [test_file, eval, status, of, files, file, bas...\n",
       "8404    [bin, bash, codenando, set, x, crear, director...\n",
       "8405    [samplename, basename, sed, s, _, reverse, ech...\n",
       "8406    [f, in, data, _r1_, samplename, basename, sed,...\n",
       "8407    [bin, bash, variable, naming, underscore, sepa...\n",
       "8408    [bin, bash, operators, d, file, if, is, direct...\n",
       "8409    [bin, bash, miscellaneous, if, id, u, then, ec...\n",
       "8410    [bin, bash, flow, control, if, simple, is_eart...\n",
       "Name: duplicates_removed, Length: 8411, dtype: object"
      ]
     },
     "execution_count": 28,
     "metadata": {},
     "output_type": "execute_result"
    }
   ],
   "source": [
    "# print set with duplicates removed\n",
    "dataset['duplicates_removed']"
   ]
  },
  {
   "cell_type": "code",
   "execution_count": 29,
   "metadata": {},
   "outputs": [],
   "source": [
    "def rejoin_words(row):\n",
    "    # load content\n",
    "    my_list = row['duplicates_removed']\n",
    "    joined_words = (\" \".join(my_list))\n",
    "    return joined_words\n",
    "\n",
    "# creates a transient 'processed' column with the result of the function\n",
    "dataset['processed'] = dataset.apply(rejoin_words, axis = 1)"
   ]
  },
  {
   "cell_type": "code",
   "execution_count": 30,
   "metadata": {},
   "outputs": [
    {
     "name": "stdout",
     "output_type": "stream",
     "text": [
      "['content', 'programacao orientada a objeto', 'linguagem de marcacao', 'banco de dados', 'linguagem de script', 'tokenized', 'with_stopwords_removed', 'duplicates_removed', 'processed']\n"
     ]
    }
   ],
   "source": [
    "# print columns existents\n",
    "print (list(dataset))"
   ]
  },
  {
   "cell_type": "code",
   "execution_count": 31,
   "metadata": {},
   "outputs": [],
   "source": [
    "cols_to_drop = ['content', 'tokenized', 'with_stopwords_removed', 'duplicates_removed']\n",
    "dataset.drop(cols_to_drop, inplace = True, axis = 1)\n",
    "\n",
    "# convert transient cvs in real file\n",
    "dataset.to_csv('dataset-processed.csv', index = False)"
   ]
  }
 ],
 "metadata": {
  "kernelspec": {
   "display_name": "Python 3",
   "language": "python",
   "name": "python3"
  },
  "language_info": {
   "codemirror_mode": {
    "name": "ipython",
    "version": 3
   },
   "file_extension": ".py",
   "mimetype": "text/x-python",
   "name": "python",
   "nbconvert_exporter": "python",
   "pygments_lexer": "ipython3",
   "version": "3.7.3"
  }
 },
 "nbformat": 4,
 "nbformat_minor": 2
}
